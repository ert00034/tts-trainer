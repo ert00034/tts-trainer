{
  "cells": [
    {
      "cell_type": "code",
      "execution_count": null,
      "metadata": {
        "vscode": {
          "languageId": "plaintext"
        }
      },
      "outputs": [],
      "source": [
        "# TTS Trainer - Data Exploration & Analysis\n",
        "\n",
        "This notebook provides tools for exploring video/audio datasets and analyzing quality metrics for TTS training.\n",
        "\n",
        "## Features\n",
        "\n",
        "- **Video/Audio Analysis**: Quality assessment, duration analysis, format compatibility\n",
        "- **Dataset Exploration**: Distribution analysis, outlier detection, quality scoring\n",
        "- **Training Recommendations**: Data preprocessing suggestions, model selection guidance\n",
        "- **Quality Metrics**: Audio quality validation, transcript alignment analysis\n",
        "\n",
        "## Setup\n",
        "\n",
        "Before running this notebook, ensure you have:\n",
        "1. Installed all requirements from `requirements.txt`\n",
        "2. Videos placed in `resources/videos/`\n",
        "3. GPU drivers installed (for CUDA acceleration)\n"
      ]
    },
    {
      "cell_type": "code",
      "execution_count": null,
      "metadata": {},
      "outputs": [],
      "source": [
        "# Import required libraries\n",
        "import sys\n",
        "from pathlib import Path\n",
        "import pandas as pd\n",
        "import numpy as np\n",
        "import matplotlib.pyplot as plt\n",
        "import seaborn as sns\n",
        "from IPython.display import Audio, display\n",
        "import warnings\n",
        "warnings.filterwarnings('ignore')\n",
        "\n",
        "# Add src to path for imports\n",
        "sys.path.append(str(Path.cwd().parent / \"src\"))\n",
        "\n",
        "# Import project modules\n",
        "from utils.file_utils import get_video_files, get_audio_files, validate_audio_file\n",
        "from utils.logging_utils import setup_logger\n",
        "from pipeline.stages.video_processor import VideoProcessor\n",
        "\n",
        "# Setup\n",
        "plt.style.use('seaborn-v0_8')\n",
        "sns.set_palette(\"husl\")\n",
        "logger = setup_logger(\"data_exploration\")\n",
        "\n",
        "print(\"✅ Libraries imported successfully!\")\n",
        "print(f\"📁 Working directory: {Path.cwd()}\")\n",
        "print(f\"📁 Project root: {Path.cwd().parent}\")\n"
      ]
    },
    {
      "cell_type": "code",
      "execution_count": null,
      "metadata": {
        "vscode": {
          "languageId": "plaintext"
        }
      },
      "outputs": [],
      "source": [
        "# TTS Trainer - Data Exploration\n",
        "\n",
        "This notebook provides tools for exploring and analyzing your video/audio datasets before training.\n",
        "\n",
        "## Features\n",
        "- Video metadata analysis\n",
        "- Audio quality assessment\n",
        "- Dataset statistics and visualization\n",
        "- Transcript quality analysis\n"
      ]
    },
    {
      "cell_type": "code",
      "execution_count": null,
      "metadata": {},
      "outputs": [],
      "source": [
        "# Import required libraries\n",
        "import sys\n",
        "import pandas as pd\n",
        "import numpy as np\n",
        "import matplotlib.pyplot as plt\n",
        "import seaborn as sns\n",
        "import librosa\n",
        "import soundfile as sf\n",
        "from pathlib import Path\n",
        "import json\n",
        "from IPython.display import Audio, display, HTML\n",
        "import plotly.express as px\n",
        "import plotly.graph_objects as go\n",
        "from plotly.subplots import make_subplots\n",
        "\n",
        "# Add src to path\n",
        "sys.path.append('../src')\n",
        "\n",
        "from utils.file_utils import get_video_files, get_audio_files\n",
        "from pipeline.stages.video_processor import VideoProcessor\n",
        "from pipeline.validators.audio_quality import AudioQualityValidator\n",
        "\n",
        "# Set up plotting\n",
        "plt.style.use('seaborn-v0_8')\n",
        "sns.set_palette(\"husl\")\n",
        "%matplotlib inline\n"
      ]
    }
  ],
  "metadata": {
    "language_info": {
      "name": "python"
    }
  },
  "nbformat": 4,
  "nbformat_minor": 2
}
